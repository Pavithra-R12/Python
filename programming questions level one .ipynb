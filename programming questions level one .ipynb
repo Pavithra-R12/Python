{
 "cells": [
  {
   "cell_type": "code",
   "execution_count": 1,
   "id": "d8229a56",
   "metadata": {},
   "outputs": [
    {
     "name": "stdout",
     "output_type": "stream",
     "text": [
      "HELLO WORLd\n"
     ]
    }
   ],
   "source": [
    "print(\"HELLO WORLd\")"
   ]
  },
  {
   "cell_type": "code",
   "execution_count": 2,
   "id": "1ca24aa6",
   "metadata": {},
   "outputs": [
    {
     "name": "stdout",
     "output_type": "stream",
     "text": [
      "enter the value = 5\n",
      "enter the value = 5\n",
      "the answer  is =  10\n"
     ]
    }
   ],
   "source": [
    "a = int(input(\"enter the value = \"))\n",
    "b = int(input(\"enter the value = \"))\n",
    "c = a+b;\n",
    "print(\"the answer  is = \",c)"
   ]
  },
  {
   "cell_type": "code",
   "execution_count": 12,
   "id": "b94a18bc",
   "metadata": {},
   "outputs": [
    {
     "name": "stdout",
     "output_type": "stream",
     "text": [
      " the swapped value : 10 1\n"
     ]
    }
   ],
   "source": [
    " a = 1\n",
    " b = 10\n",
    "a,b=b,a\n",
    "\n",
    "print(\" the swapped value :\", a,b)"
   ]
  },
  {
   "cell_type": "code",
   "execution_count": 14,
   "id": "bdddac2c",
   "metadata": {},
   "outputs": [
    {
     "name": "stdout",
     "output_type": "stream",
     "text": [
      "enter the kilometer = 1\n",
      "miles =  0.621371\n"
     ]
    }
   ],
   "source": [
    "km = float(input(\"enter the kilometer = \"))\n",
    "cf=0.621371\n",
    "m = cf*km\n",
    "print(\"miles = \",m)"
   ]
  },
  {
   "cell_type": "code",
   "execution_count": 19,
   "id": "dfafe4e7",
   "metadata": {},
   "outputs": [
    {
     "name": "stdout",
     "output_type": "stream",
     "text": [
      "enter the value = -9\n",
      "negative\n"
     ]
    }
   ],
   "source": [
    "a = int(input(\"enter the value = \"))\n",
    "if a>0 :\n",
    "    print(\"positive\")\n",
    "else:\n",
    "    print(\"negative\")"
   ]
  },
  {
   "cell_type": "code",
   "execution_count": 20,
   "id": "c23845bf",
   "metadata": {},
   "outputs": [
    {
     "name": "stdout",
     "output_type": "stream",
     "text": [
      "enter the value = 2094\n",
      "NOT A LEAP YEAR\n"
     ]
    }
   ],
   "source": [
    "year = int(input(\"enter the value = \"))\n",
    "if(year%4==0) :\n",
    "    print(\"LEAP YEAR\")\n",
    "else :\n",
    "    print(\"NOT A LEAP YEAR\")\n"
   ]
  },
  {
   "cell_type": "code",
   "execution_count": null,
   "id": "c0e5581a",
   "metadata": {},
   "outputs": [],
   "source": [
    "lower=int(input(\"Enter lower limit value: \"))\n",
    "upper=int(input(\"Enter upper limit value: \"))\n",
    "for num in range(lower, upper + 1):\n",
    "    if num > 1:\n",
    "        for i in range(2, num):\n",
    "            if (num % i) == 0:\n",
    "                break\n",
    "        else:\n",
    "            print(num)"
   ]
  },
  {
   "cell_type": "code",
   "execution_count": 17,
   "id": "86cbb90e",
   "metadata": {},
   "outputs": [
    {
     "name": "stdout",
     "output_type": "stream",
     "text": [
      "How many terms? 5\n",
      "Fibonacci sequence:\n",
      "0\n",
      "1\n",
      "1\n",
      "2\n",
      "3\n"
     ]
    }
   ],
   "source": [
    "n= int(input(\"How many terms? \"))\n",
    "n1, n2 = 0, 1\n",
    "count = 0\n",
    "if n <= 0:\n",
    "   print(\"Please enter a positive integer\")\n",
    "\n",
    "elif n == 1:\n",
    "   print(\"Fibonacci sequence upto\",n,\":\")\n",
    "   print(n1)\n",
    "\n",
    "else:\n",
    "   print(\"Fibonacci sequence:\")\n",
    "   while count < n:\n",
    "       print(n1)\n",
    "       nth = n1 + n2\n",
    "       n1 = n2\n",
    "       n2 = nth\n",
    "       count += 1"
   ]
  },
  {
   "cell_type": "code",
   "execution_count": 5,
   "id": "627e8290",
   "metadata": {},
   "outputs": [
    {
     "name": "stdout",
     "output_type": "stream",
     "text": [
      "Enter a number: 4\n",
      "4 is not an Armstrong number\n"
     ]
    }
   ],
   "source": [
    "num = int(input(\"Enter a number: \"))\n",
    "sum = 0\n",
    "temp = num\n",
    "while temp > 0:\n",
    "   digit = temp % 10\n",
    "   sum += digit ** 3\n",
    "   temp //= 10\n",
    "if num == sum:\n",
    "   print(num,\"is an Armstrong number\")\n",
    "else:\n",
    "   print(num,\"is not an Armstrong number\")"
   ]
  },
  {
   "cell_type": "code",
   "execution_count": 3,
   "id": "fc600007",
   "metadata": {},
   "outputs": [
    {
     "name": "stdout",
     "output_type": "stream",
     "text": [
      "The sum is 136\n"
     ]
    }
   ],
   "source": [
    "num = 16\n",
    "if num < 0:\n",
    "       print(\"Enter a positive number\")\n",
    "else:\n",
    "       sum = 0\n",
    "   # use while loop to iterate until zero\n",
    "       while(num > 0):\n",
    "            sum+=num\n",
    "            num-=1\n",
    "print(\"The sum is\", sum)"
   ]
  },
  {
   "cell_type": "code",
   "execution_count": 5,
   "id": "b1d87022",
   "metadata": {},
   "outputs": [
    {
     "name": "stdout",
     "output_type": "stream",
     "text": [
      "Enter the number of rows5\n",
      "* \n",
      "* * \n",
      "* * * \n",
      "* * * * \n",
      "* * * * * \n"
     ]
    }
   ],
   "source": [
    "#Write a function called show_stars(rows). If rows are 5, it should print the following:\n",
    "#*\n",
    "#**\n",
    "#***\n",
    "#****\n",
    "#*****\n",
    "\n",
    "num_rows = int(input(\"Enter the number of rows\"));\n",
    "k = 1\n",
    "for i in range(0, num_rows):\n",
    "    for j in range(0, k):\n",
    "        print(\"* \", end=\"\")\n",
    "    k = k + 1\n",
    "    print()"
   ]
  },
  {
   "cell_type": "code",
   "execution_count": 23,
   "id": "39286bbf",
   "metadata": {},
   "outputs": [
    {
     "name": "stdout",
     "output_type": "stream",
     "text": [
      "removing a string \n",
      "Original string: apple\n",
      "ple\n"
     ]
    }
   ],
   "source": [
    "print(\"removing a string \")\n",
    "print(remove_chars(\"apple\",2))\n",
    "\n",
    "\n",
    "\n"
   ]
  },
  {
   "cell_type": "code",
   "execution_count": 35,
   "id": "9a36e6bd",
   "metadata": {},
   "outputs": [
    {
     "name": "stdout",
     "output_type": "stream",
     "text": [
      "the number divisible by 5 is \n",
      "5\n",
      "the number divisible by 5 is \n",
      "25\n"
     ]
    }
   ],
   "source": [
    "#Iterate the given list of numbers and print only those numbers which are divisible by 5\n",
    "a = [1,2,3,4,5,25,6,7,8,9]\n",
    "for i in a: \n",
    "    if i%5==0:\n",
    "        print(\"the number divisible by 5 is \")\n",
    "        print(i)"
   ]
  },
  {
   "cell_type": "code",
   "execution_count": 57,
   "id": "f105ecc7",
   "metadata": {},
   "outputs": [
    {
     "name": "stdout",
     "output_type": "stream",
     "text": [
      "the original string is  Hihihihhhi \n",
      "the original substring is  Hi\n",
      "total  1\n"
     ]
    }
   ],
   "source": [
    "#Write a program to find how many times substring “Hi” appears in the given strinG\n",
    "a_str = \"Hihihihhhi \"\n",
    "a_sub = \"Hi\"\n",
    "print(\"the original string is \",a_str)\n",
    "print(\"the original substring is \",a_sub)\n",
    "f = a_str.count(a_sub)\n",
    "print(\"total \",f)\n"
   ]
  },
  {
   "cell_type": "code",
   "execution_count": 58,
   "id": "1f855fa4",
   "metadata": {},
   "outputs": [
    {
     "name": "stdout",
     "output_type": "stream",
     "text": [
      "1\n",
      "2  2\n",
      "3  3  3\n",
      "4  4  4  4\n",
      "5  5  5  5  5\n"
     ]
    }
   ],
   "source": [
    "#Print the following pattern\n",
    "#1 \n",
    "#2 2 \n",
    "#3 3 3 \n",
    "#4 4 4 4 \n",
    "#5 5 5 5 5\n",
    "\n",
    "print(\"1\")\n",
    "print(\"2  2\")\n",
    "print(\"3  3  3\")\n",
    "print(\"4  4  4  4\")\n",
    "print(\"5  5  5  5  5\")\n",
    "\n"
   ]
  },
  {
   "cell_type": "code",
   "execution_count": 63,
   "id": "8c7a78bc",
   "metadata": {},
   "outputs": [
    {
     "name": "stdout",
     "output_type": "stream",
     "text": [
      "Enter a number45\n",
      "No, its not a palindrome\n"
     ]
    }
   ],
   "source": [
    "#Write a program to check if the given number is a palindrome number.\n",
    "#A palindrome number is a number that is same after reverse. For example, 545, is the palindrome numbers)\n",
    "\n",
    "num = input(\"Enter a number\")\n",
    "if num == num[::-1]:\n",
    "    print(\"Yes its a palindrome\")\n",
    "else:\n",
    "    print(\"No, its not a palindrome\")"
   ]
  },
  {
   "cell_type": "code",
   "execution_count": 65,
   "id": "03061d21",
   "metadata": {},
   "outputs": [
    {
     "name": "stdout",
     "output_type": "stream",
     "text": [
      "[10, 14, 5, 9, 56, 12]\n",
      "Swapped list:  [12, 14, 5, 9, 56, 10]\n"
     ]
    }
   ],
   "source": [
    "#Python program to interchange first and last elements in a list\n",
    "\n",
    "# Swap function\n",
    "def swapList(sl):\n",
    "    n = len(sl)\n",
    "      \n",
    "    # Swapping \n",
    "    temp = sl[0]\n",
    "    sl[0] = sl[n - 1]\n",
    "    sl[n - 1] = temp\n",
    "      \n",
    "    return sl\n",
    "      \n",
    "l = [10, 14, 5, 9, 56, 12]\n",
    "\n",
    "print(l)\n",
    "print(\"Swapped list: \",swapList(l))"
   ]
  },
  {
   "cell_type": "code",
   "execution_count": 1,
   "id": "5ad1209a",
   "metadata": {},
   "outputs": [
    {
     "name": "stdout",
     "output_type": "stream",
     "text": [
      "[19, 65, 23, 90]\n"
     ]
    }
   ],
   "source": [
    "#Python program to swap two elements in a lists\n",
    "\n",
    "def swapPositions(list, pos1, pos2):\n",
    "\t\n",
    "\tlist[pos1], list[pos2] = list[pos2], list[pos1]\n",
    "\treturn list\n",
    "\n",
    "# Driver function\n",
    "List = [23, 65, 19, 90]\n",
    "pos1, pos2 = 1, 3\n",
    "\n",
    "print(swapPositions(List, pos1-1, pos2-1))\n"
   ]
  },
  {
   "cell_type": "code",
   "execution_count": 4,
   "id": "a8109aa0",
   "metadata": {},
   "outputs": [
    {
     "name": "stdout",
     "output_type": "stream",
     "text": [
      "The length of list is:  3\n",
      "The list is : [1, 4, 5, 7, 8]\n",
      "Length of list using naive method is : 5\n"
     ]
    }
   ],
   "source": [
    "#Python | Ways to find length of list\n",
    "# Python len()\n",
    "li = [10, 20, 30]\n",
    "n = len(li)\n",
    "print(\"The length of list is: \", n)\n",
    "# Python code to demonstrate\n",
    "# length of list\n",
    "# using naive method\n",
    "test_list = [1, 4, 5, 7, 8]\n",
    "print(\"The list is : \" + str(test_list))\n",
    "counter = 0\n",
    "for i in test_list:\n",
    "\n",
    "\tcounter = counter + 1\n",
    "\n",
    "# Printing length of list\n",
    "print(\"Length of list using naive method is : \" + str(counter))\n",
    "\n"
   ]
  },
  {
   "cell_type": "code",
   "execution_count": 5,
   "id": "e29c2f0e",
   "metadata": {},
   "outputs": [
    {
     "name": "stdout",
     "output_type": "stream",
     "text": [
      "Enter elements of the list\n",
      "2\n",
      "1\n",
      "2\n",
      "Maximum of the list is : 2\n"
     ]
    }
   ],
   "source": [
    "#n=int(input(\"Enter number of element in list\"))\n",
    "mylist=[]\n",
    "print(\"Enter elements of the list\")\n",
    "for _ in range(n):\n",
    "    a=int(input())\n",
    "    mylist.append(a)\n",
    "maximum=max(mylist)\n",
    "print(\"Maximum of the list is :\",maximum)"
   ]
  },
  {
   "cell_type": "code",
   "execution_count": 7,
   "id": "2a77cfcc",
   "metadata": {},
   "outputs": [
    {
     "name": "stdout",
     "output_type": "stream",
     "text": [
      "Smallest element is: 10\n"
     ]
    }
   ],
   "source": [
    "#Minimum of two numbers in Python\n",
    "# Python program to find smallest\n",
    "# number in a list\n",
    "\n",
    "# list of numbers\n",
    "list1 = [10, 20]\n",
    "\n",
    "# sorting the list\n",
    "list1.sort()\n",
    "\n",
    "# printing the first element\n",
    "print(\"Smallest element is:\", list1[0])\n",
    "\n"
   ]
  },
  {
   "cell_type": "code",
   "execution_count": 4,
   "id": "fccb9c20",
   "metadata": {},
   "outputs": [
    {
     "name": "stdout",
     "output_type": "stream",
     "text": [
      "Enter sting value: 456\n",
      "pallindrome checking:\n",
      "\n",
      "It is not a pallindrome\n",
      "symmentrical checking:\n",
      "\n",
      "It is not symmentrical\n"
     ]
    }
   ],
   "source": [
    "#Python program to check whether the string is Symmetrical or Palindrome\n",
    "val=input(\"Enter sting value: \")\n",
    "print(\"palindrome checking:\\n\")\n",
    "if val==val[::-1]:\n",
    "    print(\"It is a pallindrome\")\n",
    "else:\n",
    "    print(\"It is not a pallindrome\")\n",
    "print(\"symmentrical checking:\\n\")\n",
    "half=len(val)//2\n",
    "if val[half:]==val[:half]:\n",
    "    print(\"It is symmentrical\")\n",
    "else:\n",
    "    print(\"It is not symmentrical\")\n",
    "\n",
    "\n",
    "\n"
   ]
  },
  {
   "cell_type": "code",
   "execution_count": 9,
   "id": "f92fb3da",
   "metadata": {},
   "outputs": [
    {
     "name": "stdout",
     "output_type": "stream",
     "text": [
      "code practice quiz geeks\n"
     ]
    }
   ],
   "source": [
    "#Reverse words in a given String in Python\n",
    "# Python code\n",
    "# To reverse words in a given string\n",
    "\n",
    "# input string\n",
    "string = \"geeks quiz practice code\"\n",
    "# reversing words in a given string\n",
    "s = string.split()[::-1]\n",
    "l = []\n",
    "for i in s:\n",
    "\t# appending reversed words to l\n",
    "\tl.append(i)\n",
    "# printing reverse words\n",
    "print(\" \".join(l))\n"
   ]
  },
  {
   "cell_type": "code",
   "execution_count": 11,
   "id": "7a7c57fb",
   "metadata": {},
   "outputs": [
    {
     "name": "stdout",
     "output_type": "stream",
     "text": [
      "The string after removal of i'th character : geksforgeeks\n"
     ]
    }
   ],
   "source": [
    "\n",
    "#Ways to remove i’th character from string in Python\n",
    "test_str = \"geeksforgeeks\"\n",
    "# Removing char at pos 3\n",
    "new_str = \"\"\n",
    "\n",
    "for i in range(len(test_str)):\n",
    "\tif i != 2:\n",
    "\t\tnew_str = new_str + test_str[i]\n",
    "\n",
    "# Printing string after removal\n",
    "print (\"The string after removal of i'th character : \" + new_str)\n"
   ]
  },
  {
   "cell_type": "code",
   "execution_count": 12,
   "id": "e85df01f",
   "metadata": {},
   "outputs": [
    {
     "name": "stdout",
     "output_type": "stream",
     "text": [
      "5\n"
     ]
    }
   ],
   "source": [
    "#Find length of a string in python \n",
    "# Python code to demonstrate string length\n",
    "# using len\n",
    "\n",
    "str = \"geeks\"\n",
    "print(len(str))\n"
   ]
  },
  {
   "cell_type": "code",
   "execution_count": 15,
   "id": "88730ada",
   "metadata": {},
   "outputs": [
    {
     "name": "stdout",
     "output_type": "stream",
     "text": [
      "This\n",
      "is\n",
      "python\n",
      "language\n"
     ]
    }
   ],
   "source": [
    "#Python program to print even length words in a string\n",
    "# Python code\n",
    "# To print even length words in string\n",
    "\n",
    "#input string\n",
    "n=\"This is a python language\"\n",
    "#splitting the words in a given string\n",
    "s=n.split(\" \")\n",
    "for i in s:\n",
    "#checking the length of words\n",
    "    if len(i)%2==0:\n",
    "\t    print(i)\n",
    "\n",
    "# this code is contributed by gangarajula laxmi\n"
   ]
  },
  {
   "cell_type": "code",
   "execution_count": 20,
   "id": "d7d802c0",
   "metadata": {},
   "outputs": [
    {
     "name": "stdout",
     "output_type": "stream",
     "text": [
      "Tuple :  ('includehelp', 'python', 3, 2021)\n",
      "Tuple Length :  4\n"
     ]
    }
   ],
   "source": [
    "# Python program to find the size of a tuple \n",
    "\n",
    "# Creating a tuple in python \n",
    "myTuple = ('includehelp', 'python', 3, 2021)\n",
    "\n",
    "# Finding size of tuple using len() method \n",
    "tupleLength = len(myTuple)\n",
    "\n",
    "# Printing the tuple and Length\n",
    "print(\"Tuple : \", (myTuple))\n",
    "print(\"Tuple Length : \", tupleLength)\n",
    "\n"
   ]
  },
  {
   "cell_type": "code",
   "execution_count": 3,
   "id": "af171cd4",
   "metadata": {},
   "outputs": [
    {
     "name": "stdout",
     "output_type": "stream",
     "text": [
      "Sum of elements in the tuple: 15\n"
     ]
    }
   ],
   "source": [
    "#Python – Sum of tuple elements\n",
    "t=(1,2,3,4,5)\n",
    "print(\"Sum of elements in the tuple:\",sum(t))\n",
    "\n",
    "\n"
   ]
  },
  {
   "cell_type": "code",
   "execution_count": 2,
   "id": "e6797f06",
   "metadata": {},
   "outputs": [
    {
     "name": "stdout",
     "output_type": "stream",
     "text": [
      "Row sum: 6\n",
      "Row sum: 15\n",
      "Row sum: 24\n"
     ]
    }
   ],
   "source": [
    "#Python – Row-wise element Addition in Tuple Matrix\n",
    "tmat = ((1, 2, 3), (4, 5, 6), (7, 8, 9))\n",
    "for row in tmat:\n",
    "    s=sum(row)\n",
    "    print(\"Row sum:\",s)"
   ]
  },
  {
   "cell_type": "code",
   "execution_count": null,
   "id": "5bb5ec9a",
   "metadata": {},
   "outputs": [],
   "source": [
    "t=(1,2,3,4,5)\n",
    "print(\"Maximum value= \",max(t))\n",
    "print(\"Minimum value= \",min(t))"
   ]
  },
  {
   "cell_type": "code",
   "execution_count": null,
   "id": "bd86658a",
   "metadata": {},
   "outputs": [],
   "source": []
  },
  {
   "cell_type": "code",
   "execution_count": null,
   "id": "db77b562",
   "metadata": {},
   "outputs": [],
   "source": []
  }
 ],
 "metadata": {
  "kernelspec": {
   "display_name": "Python 3 (ipykernel)",
   "language": "python",
   "name": "python3"
  },
  "language_info": {
   "codemirror_mode": {
    "name": "ipython",
    "version": 3
   },
   "file_extension": ".py",
   "mimetype": "text/x-python",
   "name": "python",
   "nbconvert_exporter": "python",
   "pygments_lexer": "ipython3",
   "version": "3.10.9"
  }
 },
 "nbformat": 4,
 "nbformat_minor": 5
}
