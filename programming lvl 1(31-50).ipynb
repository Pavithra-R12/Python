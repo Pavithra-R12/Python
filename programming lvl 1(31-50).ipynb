{
 "cells": [
  {
   "cell_type": "code",
   "execution_count": 1,
   "id": "b5665a61",
   "metadata": {},
   "outputs": [
    {
     "name": "stdout",
     "output_type": "stream",
     "text": [
      "The list of Tuples is  [(6, 216), (2, 8), (5, 125), (1, 1), (4, 64)]\n"
     ]
    }
   ],
   "source": [
    "#31)Create a list of tuples from given list having number and its cube in each tuple\n",
    "myList = [6, 2, 5 ,1, 4]\n",
    "tupleList = [] \n",
    "for val in myList:\n",
    "    myTuple = (val, (val*val*val))\n",
    "    tupleList.append(myTuple)\n",
    "print(\"The list of Tuples is \" , str(tupleList))"
   ]
  },
  {
   "cell_type": "code",
   "execution_count": 3,
   "id": "8e1cfe6a",
   "metadata": {},
   "outputs": [
    {
     "name": "stdout",
     "output_type": "stream",
     "text": [
      "{'rajnish': 9, 'ravi': 10, 'sanjeev': 15, 'suraj': 32, 'yash': 2}\n"
     ]
    }
   ],
   "source": [
    "#32)Python | Sort Python Dictionaries by Key or Value\n",
    "myDict = {'ravi': 10, 'rajnish': 9,\n",
    "        'sanjeev': 15, 'yash': 2, 'suraj': 32}\n",
    "\n",
    "myKeys = list(myDict.keys())\n",
    "myKeys.sort()\n",
    "sorted_dict = {i: myDict[i] for i in myKeys}\n",
    "\n",
    "print(sorted_dict)\n"
   ]
  },
  {
   "cell_type": "code",
   "execution_count": 4,
   "id": "607d41ba",
   "metadata": {},
   "outputs": [
    {
     "name": "stdout",
     "output_type": "stream",
     "text": [
      "{(10, 20, 30): 0, (5, 2, 4): 3}\n"
     ]
    }
   ],
   "source": [
    "#33)Python dictionary with keys having multiple inputs.\n",
    "import random as rn\n",
    "dict = {}\n",
    "x, y, z = 10, 20, 30\n",
    "dict[x, y, z] = x + y - z;\n",
    "x, y, z = 5, 2, 4\n",
    "dict[x, y, z] = x + y - z;\n",
    "print(dict)\n"
   ]
  },
  {
   "cell_type": "code",
   "execution_count": 5,
   "id": "f2d89ff2",
   "metadata": {},
   "outputs": [
    {
     "name": "stdout",
     "output_type": "stream",
     "text": [
      "Sum : 600\n"
     ]
    }
   ],
   "source": [
    "#34)Python program to find the sum of all items in a dictionary\n",
    "def returnSum(myDict):\n",
    "\n",
    "    list = []\n",
    "    for i in myDict:\n",
    "        list.append(myDict[i])\n",
    "    final = sum(list)\n",
    "\n",
    "    return final\n",
    "dict = {'a': 100, 'b': 200, 'c': 300}\n",
    "print(\"Sum :\", returnSum(dict))\n"
   ]
  },
  {
   "cell_type": "code",
   "execution_count": 6,
   "id": "cee26309",
   "metadata": {},
   "outputs": [
    {
     "name": "stdout",
     "output_type": "stream",
     "text": [
      "Size of dic1: 232bytes\n",
      "Size of dic2: 232bytes\n",
      "Size of dic3: 232bytes\n"
     ]
    }
   ],
   "source": [
    "#35)Python program to find the size of a Dictionary\n",
    "import sys\n",
    "dic1 = {\"A\": 1, \"B\": 2, \"C\": 3}\n",
    "dic2 = {\"Geek1\": \"Raju\", \"Geek2\": \"Nikhil\", \"Geek3\": \"Deepanshu\"}\n",
    "dic3 = {1: \"Lion\", 2: \"Tiger\", 3: \"Fox\", 4: \"Wolf\"}\n",
    "print(\"Size of dic1: \" + str(sys.getsizeof(dic1)) + \"bytes\")\n",
    "print(\"Size of dic2: \" + str(sys.getsizeof(dic2)) + \"bytes\")\n",
    "print(\"Size of dic3: \" + str(sys.getsizeof(dic3)) + \"bytes\")\n"
   ]
  },
  {
   "cell_type": "code",
   "execution_count": 7,
   "id": "9b6fa625",
   "metadata": {},
   "outputs": [
    {
     "name": "stdout",
     "output_type": "stream",
     "text": [
      "Size of Set1: 472bytes\n",
      "Size of Set2: 472bytes\n",
      "Size of Set3: 216bytes\n"
     ]
    }
   ],
   "source": [
    "#36)Find the size of a Set in Python\n",
    "import sys\n",
    "Set1 = {\"A\", 1, \"B\", 2, \"C\", 3}\n",
    "Set2 = {\"Geek1\", \"Raju\", \"Geek2\", \"Nikhil\", \"Geek3\", \"Deepanshu\"}\n",
    "Set3 = {(1, \"Lion\"), ( 2, \"Tiger\"), (3, \"Fox\")}\n",
    "print(\"Size of Set1: \" + str(sys.getsizeof(Set1)) + \"bytes\")\n",
    "print(\"Size of Set2: \" + str(sys.getsizeof(Set2)) + \"bytes\")\n",
    "print(\"Size of Set3: \" + str(sys.getsizeof(Set3)) + \"bytes\")\n"
   ]
  },
  {
   "cell_type": "code",
   "execution_count": 8,
   "id": "8c0f1497",
   "metadata": {},
   "outputs": [
    {
     "name": "stdout",
     "output_type": "stream",
     "text": [
      "e\n",
      "k\n",
      "E\n",
      "s\n",
      "g\n"
     ]
    }
   ],
   "source": [
    "#37)Iterate over a set in Python\n",
    "test_set = set(\"geEks\")\n",
    "for val in test_set:\n",
    "    print(val)\n"
   ]
  },
  {
   "cell_type": "code",
   "execution_count": 9,
   "id": "ea696130",
   "metadata": {},
   "outputs": [
    {
     "name": "stdout",
     "output_type": "stream",
     "text": [
      "65\n"
     ]
    }
   ],
   "source": [
    "#38)Python – Maximum and Minimum in a Set\n",
    "def MAX(sets):\n",
    "    return (max(sets))\n",
    "sets = set([8, 16, 24, 1, 25, 3, 10, 65, 55])\n",
    "print(MAX(sets))\n"
   ]
  },
  {
   "cell_type": "code",
   "execution_count": 10,
   "id": "4d38c8b2",
   "metadata": {},
   "outputs": [
    {
     "name": "stdout",
     "output_type": "stream",
     "text": [
      "{'apple', 'cherry'}\n"
     ]
    }
   ],
   "source": [
    "#39)Python – Remove items from Set\n",
    "thisset = {\"apple\", \"banana\", \"cherry\"}\n",
    "thisset.remove(\"banana\")\n",
    "print(thisset)"
   ]
  },
  {
   "cell_type": "code",
   "execution_count": 12,
   "id": "da788729",
   "metadata": {},
   "outputs": [
    {
     "name": "stdout",
     "output_type": "stream",
     "text": [
      "True\n",
      "False\n"
     ]
    }
   ],
   "source": [
    "#40)Python – Check if two lists have atleast one element common\n",
    "def common_data(list1, list2):\n",
    "    result = False\n",
    "    for x in list1:\n",
    "        for y in list2:\n",
    "            if x == y:\n",
    "                result = True\n",
    "                return result\n",
    "    return result\n",
    "a = [1, 2, 3, 4, 5]\n",
    "b = [5, 6, 7, 8, 9]\n",
    "print(common_data(a, b))\n",
    "a = [1, 2, 3, 4, 5]\n",
    "b = [6, 7, 8, 9]\n",
    "print(common_data(a, b))\n",
    "\n"
   ]
  },
  {
   "cell_type": "code",
   "execution_count": 13,
   "id": "6c78e605",
   "metadata": {},
   "outputs": [
    {
     "name": "stdout",
     "output_type": "stream",
     "text": [
      "The original list : [[5, 8, 9], [2, 0, 9], [5, 4, 2], [2, 3, 9]]\n",
      "The Assigned Matrix : {5: [2, 0, 9], 8: [5, 4, 2], 9: [2, 3, 9]}\n"
     ]
    }
   ],
   "source": [
    "#41)Python – Assigning Subsequent Rows to Matrix first row elements\n",
    "test_list = [[5, 8, 9], [2, 0, 9], [5, 4, 2], [2, 3, 9]]\n",
    "print(\"The original list : \" + str(test_list))\n",
    "res = {test_list[0][ele] : test_list[ele + 1] for ele in range(len(test_list) - 1)}\n",
    "print(\"The Assigned Matrix : \" + str(res))\n"
   ]
  },
  {
   "cell_type": "code",
   "execution_count": 2,
   "id": "04c091ac",
   "metadata": {},
   "outputs": [
    {
     "name": "stdout",
     "output_type": "stream",
     "text": [
      "Printing elements of first matrix\n",
      "[[1 2]\n",
      " [3 4]]\n",
      "Printing elements of second matrix\n",
      "[[4 5]\n",
      " [6 7]]\n",
      "Addition of two matrix\n",
      "[[ 5  7]\n",
      " [ 9 11]]\n"
     ]
    }
   ],
   "source": [
    "#42)Adding and Subtracting Matrices in Python\n",
    "# importing numpy as np\n",
    "import numpy as np\n",
    "A = np.array([[1, 2], [3, 4]])\n",
    "B = np.array([[4, 5], [6, 7]])\n",
    "print(\"Printing elements of first matrix\")\n",
    "print(A)\n",
    "print(\"Printing elements of second matrix\")\n",
    "print(B)\n",
    "print(\"Addition of two matrix\")\n",
    "print(np.add(A, B))\n"
   ]
  },
  {
   "cell_type": "code",
   "execution_count": 3,
   "id": "5c49a9ca",
   "metadata": {},
   "outputs": [
    {
     "name": "stdout",
     "output_type": "stream",
     "text": [
      "The original list : [1, 3, 5, 1, 3, 2, 5, 4, 2]\n",
      "Matrix after grouping : [[1, 1], [2, 2], [3, 3], [4], [5, 5]]\n"
     ]
    }
   ],
   "source": [
    "#43)Python – Group similar elements into Matrix\n",
    "from itertools import groupby\n",
    "test_list = [1, 3, 5, 1, 3, 2, 5, 4, 2]\n",
    "print(\"The original list : \" + str(test_list))\n",
    "res = [list(val) for key, val in groupby(sorted(test_list))]\n",
    "print(\"Matrix after grouping : \" + str(res))\n"
   ]
  },
  {
   "cell_type": "code",
   "execution_count": 4,
   "id": "6e6a9aa0",
   "metadata": {},
   "outputs": [
    {
     "name": "stdout",
     "output_type": "stream",
     "text": [
      "The original list is : [[('Gfg', 3), ('is', 3)], [('best', 1)], [('for', 5), ('geeks', 1)]]\n",
      "The matrix after row elements addition : [[('Gfg', 3, 6), ('is', 3, 6)], [('best', 1, 7)], [('for', 5, 8), ('geeks', 1, 8)]]\n"
     ]
    }
   ],
   "source": [
    "#44)Python – Row-wise element Addition in Tuple Matrix\n",
    "test_list = [[('Gfg', 3), ('is', 3)], [('best', 1)], [('for', 5), ('geeks', 1)]]\n",
    "print(\"The original list is : \" + str(test_list))\n",
    "cus_eles = [6, 7, 8]\n",
    "res = [[sub + (cus_eles[idx], ) for sub in val] for idx, val in enumerate(test_list)]\n",
    "print(\"The matrix after row elements addition : \" + str(res))\n"
   ]
  },
  {
   "cell_type": "code",
   "execution_count": 5,
   "id": "41a3d882",
   "metadata": {},
   "outputs": [
    {
     "name": "stdout",
     "output_type": "stream",
     "text": [
      "1 2 3 4 \n",
      "8 7 6 5 \n",
      "9 10 11 12 \n",
      "16 15 14 13 \n",
      "1 2 3 4 \n",
      "8 7 6 5 \n",
      "9 10 11 12 \n",
      "16 15 14 13 \n"
     ]
    }
   ],
   "source": [
    "#45)Create an n x n square matrix, where all the sub-matrix has the sum of opposite corner elements as even\n",
    "import itertools\n",
    "def sub_mat_even(n):\n",
    "    temp = itertools.count(1)\n",
    "    l = [[next(temp)for i in range(n)]for i in range(n)]\n",
    "    if n%2 == 0:\n",
    "        for i in range(0,len(l)):\n",
    "            if i%2 == 1:\n",
    "                l[i][:] = l[i][::-1]\n",
    "        for i in range(n):\n",
    "        for j in range(n):\n",
    "            print(l[i][j],end=\" \")\n",
    "        print()\n",
    "n = 4\n",
    "sub_mat_even(n)\n",
    "import itertools\n",
    "def sub_mat_even(n):\n",
    "        temp = itertools.count(1)\n",
    "           l = [[next(temp)for i in range(n)]for i in range(n)]\n",
    "    if n%2 == 0:\n",
    "        for i in range(0,len(l)):\n",
    "            if i%2 == 1:\n",
    "                l[i][:] = l[i][::-1]\n",
    "    for i in range(n):\n",
    "        for j in range(n):\n",
    "            print(l[i][j],end=\" \")\n",
    "        print()\n",
    "n = 4\n",
    "sub_mat_even(n)\n"
   ]
  },
  {
   "cell_type": "code",
   "execution_count": 6,
   "id": "31b40ed8",
   "metadata": {},
   "outputs": [
    {
     "name": "stdout",
     "output_type": "stream",
     "text": [
      "(a, b)\n"
     ]
    }
   ],
   "source": [
    "#46)How to get list of parameters name from a function in Python?\n",
    "def fun(a, b):\n",
    "    return a**b\n",
    "import inspect\n",
    "print(inspect.signature(fun))\n"
   ]
  },
  {
   "cell_type": "code",
   "execution_count": 8,
   "id": "1c7ba272",
   "metadata": {},
   "outputs": [
    {
     "name": "stdout",
     "output_type": "stream",
     "text": [
      "Hello from  github, 25\n"
     ]
    }
   ],
   "source": [
    "#47)How to Print Multiple Arguments in Python?\n",
    "def GFG(name, num):\n",
    "    print(\"Hello from \", name + ', ' + num)\n",
    "GFG(\"github\", \"25\")\n"
   ]
  },
  {
   "cell_type": "code",
   "execution_count": 9,
   "id": "aa796980",
   "metadata": {},
   "outputs": [
    {
     "name": "stdout",
     "output_type": "stream",
     "text": [
      "25\n"
     ]
    }
   ],
   "source": [
    "#48)Python program to find the power of a number using recursion\n",
    "def power(N, P):\n",
    "    if P == 0:\n",
    "        return 1\n",
    "    return (N*power(N, P-1))\n",
    "if __name__ == '__main__':\n",
    "    N = 5\n",
    "    P = 2\n",
    "    print(power(N, P))\n"
   ]
  },
  {
   "cell_type": "code",
   "execution_count": 10,
   "id": "eb1925f2",
   "metadata": {},
   "outputs": [
    {
     "name": "stdout",
     "output_type": "stream",
     "text": [
      "[1, 3, 9, 26]\n",
      "['foR', 'Geeks', 'gEEks']\n"
     ]
    }
   ],
   "source": [
    "#49)Sorting objects of user defined class in Python\n",
    "print(sorted([1,26,3,9]))\n",
    "print(sorted(\"Geeks foR gEEks\".split(), key=str.lower))"
   ]
  },
  {
   "cell_type": "code",
   "execution_count": 11,
   "id": "82a1e321",
   "metadata": {},
   "outputs": [
    {
     "name": "stdout",
     "output_type": "stream",
     "text": [
      "{'Argument_1': 'gfg', 'Argument_2': 'GFG'}\n"
     ]
    }
   ],
   "source": [
    "#50)Functions that accept variable length key value pair as arguments\n",
    "def printKwargs(**kwargs):\n",
    "    print(kwargs)\n",
    "if __name__ == \"__main__\":\n",
    "    printKwargs(Argument_1='gfg', Argument_2='GFG')\n"
   ]
  },
  {
   "cell_type": "code",
   "execution_count": null,
   "id": "02958f6a",
   "metadata": {},
   "outputs": [],
   "source": []
  }
 ],
 "metadata": {
  "kernelspec": {
   "display_name": "Python 3 (ipykernel)",
   "language": "python",
   "name": "python3"
  },
  "language_info": {
   "codemirror_mode": {
    "name": "ipython",
    "version": 3
   },
   "file_extension": ".py",
   "mimetype": "text/x-python",
   "name": "python",
   "nbconvert_exporter": "python",
   "pygments_lexer": "ipython3",
   "version": "3.10.9"
  }
 },
 "nbformat": 4,
 "nbformat_minor": 5
}
